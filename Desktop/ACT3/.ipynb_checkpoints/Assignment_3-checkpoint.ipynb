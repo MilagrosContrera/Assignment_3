{
 "cells": [
  {
   "cell_type": "markdown",
   "id": "a8f15ac9",
   "metadata": {},
   "source": [
    "# Assignment 3\n",
    "\n",
    "**Name:** Milagros Contreras Elizalde\n",
    "\n",
    "**e-mail:** -- milagros.contreras8430@alumnos.udg.mx --"
   ]
  },
  {
   "cell_type": "code",
   "execution_count": null,
   "id": "be532c77",
   "metadata": {},
   "outputs": [],
   "source": []
  }
 ],
 "metadata": {
  "kernelspec": {
   "display_name": "Python 3 (ipykernel)",
   "language": "python",
   "name": "python3"
  },
  "language_info": {
   "codemirror_mode": {
    "name": "ipython",
    "version": 3
   },
   "file_extension": ".py",
   "mimetype": "text/x-python",
   "name": "python",
   "nbconvert_exporter": "python",
   "pygments_lexer": "ipython3",
   "version": "3.10.9"
  }
 },
 "nbformat": 4,
 "nbformat_minor": 5
}
