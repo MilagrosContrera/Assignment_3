{
 "cells": [
  {
   "cell_type": "markdown",
   "id": "a8f15ac9",
   "metadata": {},
   "source": [
    "# Assignment 3\n",
    "\n",
    "**Name:** Milagros Contreras Elizalde\n",
    "\n",
    "**e-mail:** -- milagros.contreras8430@alumnos.udg.mx --"
   ]
  },
  {
   "cell_type": "code",
   "execution_count": 49,
   "id": "6655cddc",
   "metadata": {},
   "outputs": [
    {
     "name": "stdout",
     "output_type": "stream",
     "text": [
      "Requirement already satisfied: dash in c:\\users\\mili\\anaconda3\\lib\\site-packages (2.18.1)\n",
      "Requirement already satisfied: dash-html-components==2.0.0 in c:\\users\\mili\\anaconda3\\lib\\site-packages (from dash) (2.0.0)\n",
      "Requirement already satisfied: importlib-metadata in c:\\users\\mili\\anaconda3\\lib\\site-packages (from dash) (4.11.3)\n",
      "Requirement already satisfied: requests in c:\\users\\mili\\anaconda3\\lib\\site-packages (from dash) (2.28.1)\n",
      "Requirement already satisfied: setuptools in c:\\users\\mili\\anaconda3\\lib\\site-packages (from dash) (65.6.3)\n",
      "Requirement already satisfied: plotly>=5.0.0 in c:\\users\\mili\\anaconda3\\lib\\site-packages (from dash) (5.9.0)\n",
      "Requirement already satisfied: typing-extensions>=4.1.1 in c:\\users\\mili\\anaconda3\\lib\\site-packages (from dash) (4.4.0)\n",
      "Requirement already satisfied: Werkzeug<3.1 in c:\\users\\mili\\anaconda3\\lib\\site-packages (from dash) (2.2.2)\n",
      "Requirement already satisfied: dash-table==5.0.0 in c:\\users\\mili\\anaconda3\\lib\\site-packages (from dash) (5.0.0)\n",
      "Requirement already satisfied: dash-core-components==2.0.0 in c:\\users\\mili\\anaconda3\\lib\\site-packages (from dash) (2.0.0)\n",
      "Requirement already satisfied: retrying in c:\\users\\mili\\anaconda3\\lib\\site-packages (from dash) (1.3.4)\n",
      "Requirement already satisfied: nest-asyncio in c:\\users\\mili\\anaconda3\\lib\\site-packages (from dash) (1.5.6)\n",
      "Requirement already satisfied: Flask<3.1,>=1.0.4 in c:\\users\\mili\\anaconda3\\lib\\site-packages (from dash) (2.2.2)\n",
      "Requirement already satisfied: click>=8.0 in c:\\users\\mili\\anaconda3\\lib\\site-packages (from Flask<3.1,>=1.0.4->dash) (8.0.4)\n",
      "Requirement already satisfied: Jinja2>=3.0 in c:\\users\\mili\\anaconda3\\lib\\site-packages (from Flask<3.1,>=1.0.4->dash) (3.1.2)\n",
      "Requirement already satisfied: itsdangerous>=2.0 in c:\\users\\mili\\anaconda3\\lib\\site-packages (from Flask<3.1,>=1.0.4->dash) (2.0.1)\n",
      "Requirement already satisfied: tenacity>=6.2.0 in c:\\users\\mili\\anaconda3\\lib\\site-packages (from plotly>=5.0.0->dash) (8.0.1)\n",
      "Requirement already satisfied: MarkupSafe>=2.1.1 in c:\\users\\mili\\anaconda3\\lib\\site-packages (from Werkzeug<3.1->dash) (2.1.1)\n",
      "Requirement already satisfied: zipp>=0.5 in c:\\users\\mili\\anaconda3\\lib\\site-packages (from importlib-metadata->dash) (3.11.0)\n",
      "Requirement already satisfied: idna<4,>=2.5 in c:\\users\\mili\\anaconda3\\lib\\site-packages (from requests->dash) (3.4)\n",
      "Requirement already satisfied: charset-normalizer<3,>=2 in c:\\users\\mili\\anaconda3\\lib\\site-packages (from requests->dash) (2.0.4)\n",
      "Requirement already satisfied: urllib3<1.27,>=1.21.1 in c:\\users\\mili\\anaconda3\\lib\\site-packages (from requests->dash) (1.26.14)\n",
      "Requirement already satisfied: certifi>=2017.4.17 in c:\\users\\mili\\anaconda3\\lib\\site-packages (from requests->dash) (2022.12.7)\n",
      "Requirement already satisfied: six>=1.7.0 in c:\\users\\mili\\anaconda3\\lib\\site-packages (from retrying->dash) (1.16.0)\n",
      "Requirement already satisfied: colorama in c:\\users\\mili\\anaconda3\\lib\\site-packages (from click>=8.0->Flask<3.1,>=1.0.4->dash) (0.4.6)\n"
     ]
    }
   ],
   "source": [
    "!pip install dash"
   ]
  },
  {
   "cell_type": "code",
   "execution_count": 50,
   "id": "a68e7dbc",
   "metadata": {},
   "outputs": [],
   "source": [
    "# Import necessary libraries\n",
    "import dash\n",
    "from dash import dcc, html\n",
    "from dash.dependencies import Input, Output\n",
    "import plotly.graph_objects as go\n",
    "import numpy as np\n",
    "import pandas as pd\n",
    "from scipy.stats import cauchy\n",
    "from plotly.subplots import make_subplots"
   ]
  },
  {
   "cell_type": "markdown",
   "id": "d7cd0c22",
   "metadata": {},
   "source": [
    "We define the Vec2d class:"
   ]
  },
  {
   "cell_type": "code",
   "execution_count": 51,
   "id": "cab4769d",
   "metadata": {},
   "outputs": [],
   "source": [
    "class Vec2d:\n",
    "    def __init__(self, x, y):\n",
    "        self.x = x\n",
    "        self.y = y\n",
    "\n",
    "    def __add__(self, other):\n",
    "        return Vec2d(self.x + other.x, self.y + other.y)\n",
    "\n",
    "    def __mul__(self, scalar):\n",
    "        return Vec2d(self.x * scalar, self.y * scalar)"
   ]
  },
  {
   "cell_type": "markdown",
   "id": "3746bb0c",
   "metadata": {},
   "source": [
    "# Brownian Motion\n",
    "\n",
    "Brownian motion is the random motion of particles suspended in a medium.\n"
   ]
  },
  {
   "cell_type": "code",
   "execution_count": 52,
   "id": "d3b07681",
   "metadata": {},
   "outputs": [],
   "source": [
    "# Functions to generate trajectories\n",
    "def brownian_motion(steps, speed, start_pos):\n",
    "    traj = [Vec2d(*start_pos)]\n",
    "    for _ in range(steps):\n",
    "        angle = np.random.uniform(0, 2 * np.pi)\n",
    "        step = Vec2d(np.cos(angle), np.sin(angle)) * speed\n",
    "        traj.append(traj[-1] + step)\n",
    "    return traj"
   ]
  },
  {
   "cell_type": "markdown",
   "id": "23682cd9",
   "metadata": {},
   "source": [
    "This function simulates Brownian motion by generating a random path for a particle. It starts from a given position, then repeatedly moves the particle in random directions for a specified number of steps."
   ]
  },
  {
   "cell_type": "markdown",
   "id": "4265a71d",
   "metadata": {},
   "source": [
    "# Random Walk\n",
    "\n",
    "A random walk is known as a random process which describes a path including a succession of random steps in the mathematical space"
   ]
  },
  {
   "cell_type": "code",
   "execution_count": 53,
   "id": "829ed484",
   "metadata": {},
   "outputs": [],
   "source": [
    "def correlated_random_walk(steps, speed, start_pos, cauchy_coeff):\n",
    "    traj = [Vec2d(*start_pos)]\n",
    "    angle = 0 \n",
    "    for _ in range(steps):\n",
    "        angle += cauchy.rvs(scale=cauchy_coeff)  \n",
    "        step = Vec2d(np.cos(angle), np.sin(angle)) * speed\n",
    "        traj.append(traj[-1] + step)\n",
    "    return traj"
   ]
  },
  {
   "cell_type": "markdown",
   "id": "62067339",
   "metadata": {},
   "source": [
    "This function simulates a \"correlated random walk,\" where the direction of movement changes gradually based on random increments.The cauchy_coeff controls how much the direction can change between steps."
   ]
  },
  {
   "cell_type": "markdown",
   "id": "e0aaa30e",
   "metadata": {},
   "source": [
    "# Lévy flight\n",
    "\n",
    " Lévy flight is a random walk in which the step-lengths have a stable distribution, a probability distribution that is heavy-tailed. When defined as a walk in a space of dimension greater than one, the steps made are in isotropic random directions. Later researchers have extended the use of the term \"Lévy flight\" to also include cases where the random walk takes place on a discrete grid rather than on a continuous space."
   ]
  },
  {
   "cell_type": "code",
   "execution_count": 54,
   "id": "d8d2f1f5",
   "metadata": {},
   "outputs": [],
   "source": [
    "def levy_flight(steps, speed, start_pos, cauchy_coeff, alpha):\n",
    "    traj = [Vec2d(*start_pos)]\n",
    "    for _ in range(steps):\n",
    "        direction = np.random.uniform(0, 2 * np.pi)\n",
    "        step_length = (np.random.pareto(alpha) + 1) * cauchy_coeff \n",
    "        step = Vec2d(np.cos(direction), np.sin(direction)) * step_length * speed\n",
    "        traj.append(traj[-1] + step)\n",
    "    return traj\n"
   ]
  },
  {
   "cell_type": "markdown",
   "id": "4004d0d1",
   "metadata": {},
   "source": [
    "This function simulates a Lévy flight, where a particle moves in random directions with mostly short steps but sometimes makes longer, unpredictable jumps. The step lengths follow a Pareto distribution, controlled by the alpha parameter, creating a mix of frequent small movements and rare long ones."
   ]
  },
  {
   "cell_type": "markdown",
   "id": "7c362355",
   "metadata": {},
   "source": [
    "# Functions to calculate metrics"
   ]
  },
  {
   "cell_type": "markdown",
   "id": "2fc3c328",
   "metadata": {},
   "source": [
    "**Path length**\n",
    "\n",
    "\n",
    "This function calculates the total length of a path by summing the distances between consecutive points. It uses the Euclidean distance formula to compute these distances."
   ]
  },
  {
   "cell_type": "code",
   "execution_count": 55,
   "id": "d9ffefc4",
   "metadata": {},
   "outputs": [],
   "source": [
    "def calculate_path_length(trajectory):\n",
    "    length = 0\n",
    "    for i in range(1, len(trajectory)):\n",
    "        prev, curr = trajectory[i-1], trajectory[i]\n",
    "        length += np.sqrt((curr.x - prev.x)**2 + (curr.y - prev.y)**2)\n",
    "    return length\n"
   ]
  },
  {
   "cell_type": "markdown",
   "id": "65b45818",
   "metadata": {},
   "source": [
    "**Mean squared displacement**\n",
    "\n",
    "In statistical mechanics, the mean squared displacement (MSD, also mean square displacement, average squared displacement, or mean square fluctuation) is a measure of the deviation of the position of a particle with respect to a reference position over time. It is the most common measure of the spatial extent of random motion, and can be thought of as measuring the portion of the system \"explored\" by the random walker. "
   ]
  },
  {
   "cell_type": "code",
   "execution_count": 56,
   "id": "94517cbb",
   "metadata": {},
   "outputs": [],
   "source": [
    "def calculate_msd(trajectory):\n",
    "    msd = []\n",
    "    for tau in range(1, len(trajectory)):\n",
    "        displacements = [(trajectory[i + tau].x - trajectory[i].x)**2 + (trajectory[i + tau].y - trajectory[i].y)**2 \n",
    "                        for i in range(len(trajectory) - tau)]\n",
    "        msd.append(np.mean(displacements))\n",
    "    return msd"
   ]
  },
  {
   "cell_type": "markdown",
   "id": "0239ab47",
   "metadata": {},
   "source": [
    "This function, calculate_msd, calculates the Mean Squared Displacement (MSD) for a given trajectory. MSD is a measure used in physics to quantify how much a particle's position changes over time."
   ]
  },
  {
   "cell_type": "markdown",
   "id": "de8a73b6",
   "metadata": {},
   "source": [
    "References\n",
    "- Wikipedia contributors. (2024, September 27). Brownian motion. Wikipedia. https://en.wikipedia.org/wiki/Brownian_motion\n",
    "- Random Walks: A Review of Algorithms and Applications. (s. f.). IEEE TRANSACTIONS ON EMERGING TOPICS IN COMPUTATIONAL INTELLIGENCE, VOL. 0, https://arxiv.org/pdf/2008.03639#:~:text=Abstract%E2%80%94A%20random%20walk%20is,as%20mathematics%20and%20computer%20science.\n",
    "- Wikipedia contributors. (2024, April 25). Lévy flight. Wikipedia. https://en.wikipedia.org/wiki/L%C3%A9vy_flight"
   ]
  },
  {
   "cell_type": "code",
   "execution_count": null,
   "id": "d3b962f7",
   "metadata": {},
   "outputs": [],
   "source": []
  }
 ],
 "metadata": {
  "kernelspec": {
   "display_name": "Python 3 (ipykernel)",
   "language": "python",
   "name": "python3"
  },
  "language_info": {
   "codemirror_mode": {
    "name": "ipython",
    "version": 3
   },
   "file_extension": ".py",
   "mimetype": "text/x-python",
   "name": "python",
   "nbconvert_exporter": "python",
   "pygments_lexer": "ipython3",
   "version": "3.10.9"
  }
 },
 "nbformat": 4,
 "nbformat_minor": 5
}
