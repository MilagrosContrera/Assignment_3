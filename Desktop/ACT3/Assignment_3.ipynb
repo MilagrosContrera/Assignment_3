{
 "cells": [
  {
   "cell_type": "markdown",
   "id": "a8f15ac9",
   "metadata": {},
   "source": [
    "# Assignment 3\n",
    "\n",
    "**Name:** Milagros Contreras Elizalde\n",
    "\n",
    "**e-mail:** -- milagros.contreras8430@alumnos.udg.mx --"
   ]
  },
  {
   "cell_type": "code",
   "execution_count": 49,
   "id": "6655cddc",
   "metadata": {},
   "outputs": [
    {
     "name": "stdout",
     "output_type": "stream",
     "text": [
      "Requirement already satisfied: dash in c:\\users\\mili\\anaconda3\\lib\\site-packages (2.18.1)\n",
      "Requirement already satisfied: dash-html-components==2.0.0 in c:\\users\\mili\\anaconda3\\lib\\site-packages (from dash) (2.0.0)\n",
      "Requirement already satisfied: importlib-metadata in c:\\users\\mili\\anaconda3\\lib\\site-packages (from dash) (4.11.3)\n",
      "Requirement already satisfied: requests in c:\\users\\mili\\anaconda3\\lib\\site-packages (from dash) (2.28.1)\n",
      "Requirement already satisfied: setuptools in c:\\users\\mili\\anaconda3\\lib\\site-packages (from dash) (65.6.3)\n",
      "Requirement already satisfied: plotly>=5.0.0 in c:\\users\\mili\\anaconda3\\lib\\site-packages (from dash) (5.9.0)\n",
      "Requirement already satisfied: typing-extensions>=4.1.1 in c:\\users\\mili\\anaconda3\\lib\\site-packages (from dash) (4.4.0)\n",
      "Requirement already satisfied: Werkzeug<3.1 in c:\\users\\mili\\anaconda3\\lib\\site-packages (from dash) (2.2.2)\n",
      "Requirement already satisfied: dash-table==5.0.0 in c:\\users\\mili\\anaconda3\\lib\\site-packages (from dash) (5.0.0)\n",
      "Requirement already satisfied: dash-core-components==2.0.0 in c:\\users\\mili\\anaconda3\\lib\\site-packages (from dash) (2.0.0)\n",
      "Requirement already satisfied: retrying in c:\\users\\mili\\anaconda3\\lib\\site-packages (from dash) (1.3.4)\n",
      "Requirement already satisfied: nest-asyncio in c:\\users\\mili\\anaconda3\\lib\\site-packages (from dash) (1.5.6)\n",
      "Requirement already satisfied: Flask<3.1,>=1.0.4 in c:\\users\\mili\\anaconda3\\lib\\site-packages (from dash) (2.2.2)\n",
      "Requirement already satisfied: click>=8.0 in c:\\users\\mili\\anaconda3\\lib\\site-packages (from Flask<3.1,>=1.0.4->dash) (8.0.4)\n",
      "Requirement already satisfied: Jinja2>=3.0 in c:\\users\\mili\\anaconda3\\lib\\site-packages (from Flask<3.1,>=1.0.4->dash) (3.1.2)\n",
      "Requirement already satisfied: itsdangerous>=2.0 in c:\\users\\mili\\anaconda3\\lib\\site-packages (from Flask<3.1,>=1.0.4->dash) (2.0.1)\n",
      "Requirement already satisfied: tenacity>=6.2.0 in c:\\users\\mili\\anaconda3\\lib\\site-packages (from plotly>=5.0.0->dash) (8.0.1)\n",
      "Requirement already satisfied: MarkupSafe>=2.1.1 in c:\\users\\mili\\anaconda3\\lib\\site-packages (from Werkzeug<3.1->dash) (2.1.1)\n",
      "Requirement already satisfied: zipp>=0.5 in c:\\users\\mili\\anaconda3\\lib\\site-packages (from importlib-metadata->dash) (3.11.0)\n",
      "Requirement already satisfied: idna<4,>=2.5 in c:\\users\\mili\\anaconda3\\lib\\site-packages (from requests->dash) (3.4)\n",
      "Requirement already satisfied: charset-normalizer<3,>=2 in c:\\users\\mili\\anaconda3\\lib\\site-packages (from requests->dash) (2.0.4)\n",
      "Requirement already satisfied: urllib3<1.27,>=1.21.1 in c:\\users\\mili\\anaconda3\\lib\\site-packages (from requests->dash) (1.26.14)\n",
      "Requirement already satisfied: certifi>=2017.4.17 in c:\\users\\mili\\anaconda3\\lib\\site-packages (from requests->dash) (2022.12.7)\n",
      "Requirement already satisfied: six>=1.7.0 in c:\\users\\mili\\anaconda3\\lib\\site-packages (from retrying->dash) (1.16.0)\n",
      "Requirement already satisfied: colorama in c:\\users\\mili\\anaconda3\\lib\\site-packages (from click>=8.0->Flask<3.1,>=1.0.4->dash) (0.4.6)\n"
     ]
    }
   ],
   "source": [
    "!pip install dash"
   ]
  },
  {
   "cell_type": "code",
   "execution_count": 50,
   "id": "a68e7dbc",
   "metadata": {},
   "outputs": [],
   "source": [
    "# Import necessary libraries\n",
    "import dash\n",
    "from dash import dcc, html\n",
    "from dash.dependencies import Input, Output\n",
    "import plotly.graph_objects as go\n",
    "import numpy as np\n",
    "import pandas as pd\n",
    "from scipy.stats import cauchy\n",
    "from plotly.subplots import make_subplots"
   ]
  },
  {
   "cell_type": "markdown",
   "id": "23157e06",
   "metadata": {},
   "source": [
    "We define the Vec2d class:"
   ]
  },
  {
   "cell_type": "code",
   "execution_count": 51,
   "id": "c2709593",
   "metadata": {},
   "outputs": [],
   "source": [
    "class Vec2d:\n",
    "    def __init__(self, x, y):\n",
    "        self.x = x\n",
    "        self.y = y\n",
    "\n",
    "    def __add__(self, other):\n",
    "        return Vec2d(self.x + other.x, self.y + other.y)\n",
    "\n",
    "    def __mul__(self, scalar):\n",
    "        return Vec2d(self.x * scalar, self.y * scalar)"
   ]
  },
  {
   "cell_type": "markdown",
   "id": "dc725c43",
   "metadata": {},
   "source": [
    "# Brownian Motion\n",
    "\n",
    "Brownian motion is the random motion of particles suspended in a medium.\n"
   ]
  },
  {
   "cell_type": "code",
   "execution_count": 52,
   "id": "38273c3f",
   "metadata": {},
   "outputs": [],
   "source": [
    "# Functions to generate trajectories\n",
    "def brownian_motion(steps, speed, start_pos):\n",
    "    traj = [Vec2d(*start_pos)]\n",
    "    for _ in range(steps):\n",
    "        angle = np.random.uniform(0, 2 * np.pi)\n",
    "        step = Vec2d(np.cos(angle), np.sin(angle)) * speed\n",
    "        traj.append(traj[-1] + step)\n",
    "    return traj"
   ]
  },
  {
   "cell_type": "markdown",
   "id": "dc8b3da5",
   "metadata": {},
   "source": [
    "This function simulates Brownian motion by generating a random path for a particle. It starts from a given position, then repeatedly moves the particle in random directions for a specified number of steps."
   ]
  },
  {
   "cell_type": "markdown",
   "id": "1397b6d4",
   "metadata": {},
   "source": [
    "# Random Walk\n",
    "\n",
    "A random walk is known as a random process which describes a path including a succession of random steps in the mathematical space"
   ]
  },
  {
   "cell_type": "code",
   "execution_count": 53,
   "id": "d46cc031",
   "metadata": {},
   "outputs": [],
   "source": [
    "def correlated_random_walk(steps, speed, start_pos, cauchy_coeff):\n",
    "    traj = [Vec2d(*start_pos)]\n",
    "    angle = 0 \n",
    "    for _ in range(steps):\n",
    "        angle += cauchy.rvs(scale=cauchy_coeff)  \n",
    "        step = Vec2d(np.cos(angle), np.sin(angle)) * speed\n",
    "        traj.append(traj[-1] + step)\n",
    "    return traj"
   ]
  },
  {
   "cell_type": "markdown",
   "id": "84d4c7e5",
   "metadata": {},
   "source": [
    "This function simulates a \"correlated random walk,\" where the direction of movement changes gradually based on random increments.The cauchy_coeff controls how much the direction can change between steps."
   ]
  },
  {
   "cell_type": "markdown",
   "id": "87cc454a",
   "metadata": {},
   "source": [
    "# Lévy flight\n",
    "\n",
    " Lévy flight is a random walk in which the step-lengths have a stable distribution, a probability distribution that is heavy-tailed. When defined as a walk in a space of dimension greater than one, the steps made are in isotropic random directions. Later researchers have extended the use of the term \"Lévy flight\" to also include cases where the random walk takes place on a discrete grid rather than on a continuous space."
   ]
  },
  {
   "cell_type": "code",
   "execution_count": 54,
   "id": "764dd3fc",
   "metadata": {},
   "outputs": [],
   "source": [
    "def levy_flight(steps, speed, start_pos, cauchy_coeff, alpha):\n",
    "    traj = [Vec2d(*start_pos)]\n",
    "    for _ in range(steps):\n",
    "        direction = np.random.uniform(0, 2 * np.pi)\n",
    "        step_length = (np.random.pareto(alpha) + 1) * cauchy_coeff \n",
    "        step = Vec2d(np.cos(direction), np.sin(direction)) * step_length * speed\n",
    "        traj.append(traj[-1] + step)\n",
    "    return traj\n"
   ]
  },
  {
   "cell_type": "markdown",
   "id": "81c054a9",
   "metadata": {},
   "source": [
    "This function simulates a Lévy flight, where a particle moves in random directions with mostly short steps but sometimes makes longer, unpredictable jumps. The step lengths follow a Pareto distribution, controlled by the alpha parameter, creating a mix of frequent small movements and rare long ones."
   ]
  },
  {
   "cell_type": "markdown",
   "id": "0c75cc43",
   "metadata": {},
   "source": [
    "# Functions to calculate metrics"
   ]
  },
  {
   "cell_type": "markdown",
   "id": "3db73758",
   "metadata": {},
   "source": [
    "**Path length**\n",
    "\n",
    "\n",
    "This function calculates the total length of a path by summing the distances between consecutive points. It uses the Euclidean distance formula to compute these distances."
   ]
  },
  {
   "cell_type": "code",
   "execution_count": 55,
   "id": "81374c2b",
   "metadata": {},
   "outputs": [],
   "source": [
    "def calculate_path_length(trajectory):\n",
    "    length = 0\n",
    "    for i in range(1, len(trajectory)):\n",
    "        prev, curr = trajectory[i-1], trajectory[i]\n",
    "        length += np.sqrt((curr.x - prev.x)**2 + (curr.y - prev.y)**2)\n",
    "    return length\n"
   ]
  },
  {
   "cell_type": "markdown",
   "id": "0c2b58a7",
   "metadata": {},
   "source": [
    "**Mean squared displacement**\n",
    "\n",
    "In statistical mechanics, the mean squared displacement (MSD, also mean square displacement, average squared displacement, or mean square fluctuation) is a measure of the deviation of the position of a particle with respect to a reference position over time. It is the most common measure of the spatial extent of random motion, and can be thought of as measuring the portion of the system \"explored\" by the random walker. "
   ]
  },
  {
   "cell_type": "code",
   "execution_count": 56,
   "id": "4af144bb",
   "metadata": {},
   "outputs": [],
   "source": [
    "def calculate_msd(trajectory):\n",
    "    msd = []\n",
    "    for tau in range(1, len(trajectory)):\n",
    "        displacements = [(trajectory[i + tau].x - trajectory[i].x)**2 + (trajectory[i + tau].y - trajectory[i].y)**2 \n",
    "                        for i in range(len(trajectory) - tau)]\n",
    "        msd.append(np.mean(displacements))\n",
    "    return msd"
   ]
  },
  {
   "cell_type": "markdown",
   "id": "c7aacdf4",
   "metadata": {},
   "source": [
    "This function, calculate_msd, calculates the Mean Squared Displacement (MSD) for a given trajectory. MSD is a measure used in physics to quantify how much a particle's position changes over time."
   ]
  },
  {
   "cell_type": "markdown",
   "id": "666bb8a6",
   "metadata": {},
   "source": [
    "**Turning Angles**\n",
    "\n",
    "This function, calculate_turning_angles, calculates the turning angles at each point in a trajectory, which represent how much the direction of the particle changes at each step."
   ]
  },
  {
   "cell_type": "code",
   "execution_count": 57,
   "id": "5afe9168",
   "metadata": {},
   "outputs": [],
   "source": [
    "def calculate_turning_angles(trajectory):\n",
    "    angles = []\n",
    "    for i in range(1, len(trajectory) - 1):\n",
    "        p1 = np.array([trajectory[i-1].x, trajectory[i-1].y])\n",
    "        p2 = np.array([trajectory[i].x, trajectory[i].y])\n",
    "        p3 = np.array([trajectory[i+1].x, trajectory[i+1].y])\n",
    "        v1 = p2 - p1\n",
    "        v2 = p3 - p2\n",
    "        dot_prod = np.dot(v1, v2)\n",
    "        cross_prod = np.cross(v1, v2)\n",
    "        angle = np.arctan2(cross_prod, dot_prod)\n",
    "        angles.append(angle)\n",
    "    return angles"
   ]
  },
  {
   "cell_type": "markdown",
   "id": "d416a8ed",
   "metadata": {},
   "source": [
    "# Create the Dash application"
   ]
  },
  {
   "cell_type": "code",
   "execution_count": 61,
   "id": "c0b76850",
   "metadata": {},
   "outputs": [],
   "source": [
    "app = dash.Dash(__name__)\n",
    "\n",
    "# Define the layout of the dashboard\n",
    "app.layout = html.Div([\n",
    "    html.H1(\"Random Trajectories Dashboard\", style={'text-align': 'center'}),\n",
    "\n",
    "    # Control panel\n",
    "    html.Div([\n",
    "        html.Div([\n",
    "            html.H3(\"Parameters\"),\n",
    "            dcc.Dropdown(\n",
    "                id='trajectory-type',\n",
    "                options=[\n",
    "                    {'label': 'Brownian Motion', 'value': 'BM'},\n",
    "                    {'label': 'Correlated Random Walk', 'value': 'CRW'},\n",
    "                    {'label': 'Levy Flight', 'value': 'LF'}\n",
    "                ],\n",
    "                value='BM'\n",
    "            ),\n",
    "            html.Div([\n",
    "                html.Label(\"Steps:\"),\n",
    "                dcc.Slider(\n",
    "                    id='steps',\n",
    "                    min=10,\n",
    "                    max=1000,\n",
    "                    value=500,\n",
    "                    marks={i: str(i) for i in range(0, 1001, 100)},\n",
    "                    step=10\n",
    "                )\n",
    "            ]),\n",
    "            # Mueve la sección de \"Initial Position\" aquí\n",
    "            html.Div([\n",
    "                html.Label(\"Initial Position (x, y):\"),\n",
    "                dcc.Input(id='start-x', value=0, type='number'),\n",
    "                dcc.Input(id='start-y', value=0, type='number')\n",
    "            ]),\n",
    "            # Mueve la sección de \"Cauchy Coefficient\" aquí\n",
    "            html.Div([\n",
    "                html.Label(\"Cauchy Coefficient:\"),\n",
    "                dcc.Input(id='cauchy-coeff', value=0.7, type='number')\n",
    "            ]),\n",
    "            html.Div([\n",
    "                html.Label(\"Speed:\"),\n",
    "                dcc.Slider(\n",
    "                    id='speed',\n",
    "                    min=1,\n",
    "                    max=10,  # Cambia el máximo a 10\n",
    "                    value=1,\n",
    "                    marks={i: str(i) for i in range(1, 11)},  # Actualiza los marcadores de 1 a 10\n",
    "                    step=1\n",
    "                )\n",
    "            ]),\n",
    "            html.Div([\n",
    "                html.Label(\"Levy Exponent (α):\"),\n",
    "                dcc.Input(id='levy-exponent', value=1.5, type='number')\n",
    "            ])\n",
    "        ]),\n",
    "        html.Div([\n",
    "            html.H3(\"Metrics\"),\n",
    "            dcc.Dropdown(\n",
    "                id='metric-type',\n",
    "                options=[\n",
    "                    {'label': 'Path Length', 'value': 'PL'},\n",
    "                    {'label': 'Mean Squared Displacement (MSD)', 'value': 'MSD'},\n",
    "                    {'label': 'Turning Angle Distribution', 'value': 'TAD'}\n",
    "                ],\n",
    "                value='PL'\n",
    "            )\n",
    "        ])\n",
    "    ], style={'columnCount': 2}),\n",
    "\n",
    "    # Visualization panel\n",
    "    dcc.Graph(id='combined-plot')\n",
    "])"
   ]
  },
  {
   "cell_type": "markdown",
   "id": "540070a5",
   "metadata": {},
   "source": [
    "This part of the code creates a web application using Dash to visualize random trajectories such as Brownian motion, correlated random walks, and Lévy flights.\n",
    "\n",
    "The interface includes:\n",
    "\n",
    "- Header: Displays the title \"Random Trajectories Dashboard.\"\n",
    "- Control Panel: Allows users to select parameters such as trajectory type, number of steps, initial position, Cauchy coefficient, speed, and Lévy exponent.\n",
    "- Metrics Panel: Lets users choose the type of metric to visualize (Path Length, Mean Squared Displacement, Turning Angle Distribution).\n",
    "- Visualization: A graph where the selected trajectories and metrics will be displayed."
   ]
  },
  {
   "cell_type": "code",
   "execution_count": 66,
   "id": "056ae0a2",
   "metadata": {},
   "outputs": [],
   "source": [
    "# Update the trajectory and metric graphs\n",
    "@app.callback(\n",
    "    Output('combined-plot', 'figure'),\n",
    "    [Input('trajectory-type', 'value'), Input('metric-type', 'value'), \n",
    "     Input('steps', 'value'), Input('speed', 'value'), \n",
    "     Input('start-x', 'value'), Input('start-y', 'value'), \n",
    "     Input('cauchy-coeff', 'value'), Input('levy-exponent', 'value')]\n",
    ")\n",
    "def update_plots(trajectory_type, metric_type, steps, speed, start_x, start_y, cauchy_coeff, levy_exponent):\n",
    "    # Generate trajectories based on input parameters\n",
    "    if trajectory_type == 'BM':\n",
    "        trajectory = brownian_motion(steps, speed, (start_x, start_y))  # Brownian Motion\n",
    "    elif trajectory_type == 'CRW':\n",
    "        trajectory = correlated_random_walk(steps, speed, (start_x, start_y), cauchy_coeff)  # Correlated Random Walk\n",
    "    else:\n",
    "        trajectory = levy_flight(steps, speed, (start_x, start_y), cauchy_coeff, levy_exponent)  # Levy Flight\n",
    "        \n",
    "    # 3D trajectory plot\n",
    "    x = [p.x for p in trajectory]\n",
    "    y = [p.y for p in trajectory]\n",
    "    z = list(range(len(trajectory)))"
   ]
  },
  {
   "cell_type": "markdown",
   "id": "c8a73f84",
   "metadata": {},
   "source": [
    "**Callback Definition**\n",
    "\n",
    "This is a callback function in Dash that updates the output graph ('combined-plot').\n",
    "Inputs: It listens for changes in multiple input elements like:\n",
    "trajectory-type (type of trajectory: Brownian Motion, Correlated Random Walk, or Levy Flight),\n",
    "metric-type (metric: Path Length, MSD, or Turning Angle Distribution),\n",
    "steps, speed, start-x, start-y (parameters to control trajectory behavior),\n",
    "cauchy-coeff and levy-exponent (specific parameters for the Levy flight model).\n",
    "When any of these inputs change, the function update_plots is called.\n",
    "\n",
    "**Trajectory generation:** Based on the selected trajectory_type, the function generates a different type of random path:\n",
    "If BM (Brownian Motion) is selected, it generates a random walk based on Brownian motion.\n",
    "If CRW (Correlated Random Walk), it creates a trajectory that considers a correlation between steps using the cauchy_coeff.\n",
    "If LF (Levy Flight), it uses a Lévy flight model. The levy_exponent controls the exponent for the power-law distribution.\n",
    "\n",
    "Then the code extracts the x, y coordinates from each point in the generated trajectory and stores them in lists.\n",
    "The z values represent time (or the step index), making the 3D plot display the trajectory over time."
   ]
  },
  {
   "cell_type": "code",
   "execution_count": 67,
   "id": "38a6cf25",
   "metadata": {},
   "outputs": [],
   "source": [
    "    # Create subplots in a row\n",
    "    fig = make_subplots(rows=1, cols=2, subplot_titles=(\"3D Trajectory\", \"Metric\"), specs=[[{\"type\": \"scatter3d\"}, {\"type\": \"scatter\"}]])"
   ]
  },
  {
   "cell_type": "markdown",
   "id": "adfb5c92",
   "metadata": {},
   "source": [
    "This creates a figure with two subplots:\n",
    "- Left subplot: A 3D scatter plot (for the trajectory).\n",
    "- Right subplot: A 2D plot (for the selected metric).\n",
    "\n",
    "The layout specifies that the first subplot is a 3D scatter (\"scatter3d\") and the second one is a 2D scatter (\"scatter\")."
   ]
  },
  {
   "cell_type": "code",
   "execution_count": null,
   "id": "857bc38d",
   "metadata": {},
   "outputs": [],
   "source": []
  },
  {
   "cell_type": "markdown",
   "id": "18c14630",
   "metadata": {},
   "source": [
    "References\n",
    "- Wikipedia contributors. (2024, September 27). Brownian motion. Wikipedia. https://en.wikipedia.org/wiki/Brownian_motion\n",
    "- Random Walks: A Review of Algorithms and Applications. (s. f.). IEEE TRANSACTIONS ON EMERGING TOPICS IN COMPUTATIONAL INTELLIGENCE, VOL. 0, https://arxiv.org/pdf/2008.03639#:~:text=Abstract%E2%80%94A%20random%20walk%20is,as%20mathematics%20and%20computer%20science.\n",
    "- Wikipedia contributors. (2024, April 25). Lévy flight. Wikipedia. https://en.wikipedia.org/wiki/L%C3%A9vy_flight\n",
    "- Wikipedia contributors. (2024, September 9). Mean squared displacement. Wikipedia. https://en.wikipedia.org/wiki/Mean_squared_displacement"
   ]
  }
 ],
 "metadata": {
  "kernelspec": {
   "display_name": "Python 3 (ipykernel)",
   "language": "python",
   "name": "python3"
  },
  "language_info": {
   "codemirror_mode": {
    "name": "ipython",
    "version": 3
   },
   "file_extension": ".py",
   "mimetype": "text/x-python",
   "name": "python",
   "nbconvert_exporter": "python",
   "pygments_lexer": "ipython3",
   "version": "3.10.9"
  }
 },
 "nbformat": 4,
 "nbformat_minor": 5
}
