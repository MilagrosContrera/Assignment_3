{
 "cells": [
  {
   "cell_type": "markdown",
   "id": "44b70b3c",
   "metadata": {},
   "source": [
    "# RANDOM WALK ACTIVITY 1 "
   ]
  },
  {
   "cell_type": "markdown",
   "id": "1f068310",
   "metadata": {},
   "source": [
    "In mathematics, a random walk, sometimes known as a drunkard's walk, is a stochastic process that describes a path that consists of a succession of random steps on some mathematical space.\n",
    "\n",
    "An elementary example of a random walk is the random walk on the integer number line  𝑍 which starts at  0, and at each step moves  +1 or  −1 with equal probability."
   ]
  },
  {
   "cell_type": "code",
   "execution_count": null,
   "id": "38df8414",
   "metadata": {},
   "outputs": [],
   "source": []
  }
 ],
 "metadata": {
  "kernelspec": {
   "display_name": "Python 3 (ipykernel)",
   "language": "python",
   "name": "python3"
  },
  "language_info": {
   "codemirror_mode": {
    "name": "ipython",
    "version": 3
   },
   "file_extension": ".py",
   "mimetype": "text/x-python",
   "name": "python",
   "nbconvert_exporter": "python",
   "pygments_lexer": "ipython3",
   "version": "3.10.9"
  }
 },
 "nbformat": 4,
 "nbformat_minor": 5
}
